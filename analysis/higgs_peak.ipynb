import uproot
import numpy as np
import matplotlib.pyplot as plt

# Delphes ROOT 파일 열기
file = uproot.open("tag_1_delphes_events.root")
tree = file["Delphes"]

# tau+와 tau-의 4-vector를 가져오기
tau_plus = tree.arrays(["Particle.PID", "Particle.PT", "Particle.Eta", "Particle.Phi", "Particle.Mass"], library="np")

# tau+와 tau-만 필터링
taus = []
for pid, pt, eta, phi, mass in zip(tau_plus["Particle.PID"], tau_plus["Particle.PT"], tau_plus["Particle.Eta"], tau_plus["Particle.Phi"], tau_plus["Particle.Mass"]):
    mask = (np.abs(pid) == 15)  # 15: tau lepton
    taus.append((pt[mask], eta[mask], phi[mask], mass[mask]))

# tau+ tau- 조합으로 invariant mass 계산
mass_list = []
for event in taus:
    if len(event[0]) >= 2:
        pt1, eta1, phi1, m1 = event[0][0], event[1][0], event[2][0], event[3][0]
        pt2, eta2, phi2, m2 = event[0][1], event[1][1], event[2][1], event[3][1]
        
        # 4-Vector 계산
        from math import cosh, cos, sin
        E1 = np.sqrt(pt1**2 * cosh(eta1)**2 + m1**2)
        E2 = np.sqrt(pt2**2 * cosh(eta2)**2 + m2**2)
        
        px1 = pt1 * np.cos(phi1)
        py1 = pt1 * np.sin(phi1)
        pz1 = pt1 * np.sinh(eta1)
        
        px2 = pt2 * np.cos(phi2)
        py2 = pt2 * np.sin(phi2)
        pz2 = pt2 * np.sinh(eta2)
        
        # invariant mass
        E = E1 + E2
        px = px1 + px2
        py = py1 + py2
        pz = pz1 + pz2
        inv_mass = np.sqrt(np.maximum(E**2 - px**2 - py**2 - pz**2, 0))
        mass_list.append(inv_mass)

# 히스토그램 그리기
plt.figure(figsize=(8,6))
plt.hist(mass_list, bins=50, range=(0,300), color="skyblue", edgecolor="black")
plt.title("Reconstructed Higgs Mass (τ⁺τ⁻)", fontsize=16)
plt.xlabel("Invariant Mass [GeV]", fontsize=14)
plt.ylabel("Events", fontsize=14)
plt.grid(True)
plt.show()
